{
 "cells": [
  {
   "cell_type": "code",
   "execution_count": 1,
   "id": "a4db1dc8-5d1b-4782-ad9b-4280dea419b4",
   "metadata": {},
   "outputs": [
    {
     "name": "stderr",
     "output_type": "stream",
     "text": [
      "\u001b[32m\u001b[1m  Activating\u001b[22m\u001b[39m project at `d:\\Projects\\OpenSource\\ReplicaExchangeMD.jl`\n"
     ]
    }
   ],
   "source": [
    "using Pkg\n",
    "Pkg.activate(\"../../\")"
   ]
  },
  {
   "cell_type": "code",
   "execution_count": 2,
   "id": "1094fde3-ce18-441c-a88f-1384e92d2941",
   "metadata": {},
   "outputs": [],
   "source": [
    "using ReplicaExchangeMD"
   ]
  },
  {
   "cell_type": "code",
   "execution_count": 3,
   "id": "c69979c2-c4ae-4932-affd-008b4b1345ad",
   "metadata": {},
   "outputs": [
    {
     "data": {
      "text/plain": [
       "(LennardJones{false, NoCutoff, Int64, Int64, Unitful.FreeUnits{(kJ, nm^-1, mol^-1), 𝐋 𝐌 𝐍^-1 𝐓^-2, nothing}, Unitful.FreeUnits{(kJ, mol^-1), 𝐋^2 𝐌 𝐍^-1 𝐓^-2, nothing}}(NoCutoff(), false, true, 1, 1, kJ nm^-1 mol^-1, kJ mol^-1),)"
      ]
     },
     "metadata": {},
     "output_type": "display_data"
    }
   ],
   "source": [
    "n_atoms = 10\n",
    "boundary = CubicBoundary(2.0u\"nm\", 2.0u\"nm\", 2.0u\"nm\") \n",
    "temp = 298.0u\"K\"\n",
    "atom_mass = 10.0u\"u\"\n",
    "\n",
    "atoms = [Atom(mass=atom_mass, σ=0.3u\"nm\", ϵ=0.2u\"kJ * mol^-1\") for i in 1:n_atoms]\n",
    "coords = place_atoms(n_atoms, boundary, 0.3u\"nm\")\n",
    "velocities = [velocity(atom_mass, temp) for i in 1:n_atoms]\n",
    "pairwise_inters = (LennardJones(),)"
   ]
  },
  {
   "cell_type": "code",
   "execution_count": 14,
   "id": "cef5e39c-231a-4ff9-8537-669447964cef",
   "metadata": {},
   "outputs": [
    {
     "data": {
      "text/plain": [
       "ReplicaSystem containing 5 replicas with 10 atoms, boundary CubicBoundary{Quantity{Float64, 𝐋, Unitful.FreeUnits{(nm,), 𝐋, nothing}}}(Quantity{Float64, 𝐋, Unitful.FreeUnits{(nm,), 𝐋, nothing}}[2.0 nm, 2.0 nm, 2.0 nm])"
      ]
     },
     "metadata": {},
     "output_type": "display_data"
    }
   ],
   "source": [
    "repsys = ReplicaSystem(\n",
    "                atoms=atoms,\n",
    "                pairwise_inters=pairwise_inters,\n",
    "                coords=coords,\n",
    "                velocities=velocities,\n",
    "                n_replicas=5,\n",
    "                boundary=boundary,\n",
    ")"
   ]
  },
  {
   "cell_type": "code",
   "execution_count": 15,
   "id": "f40562cb-2b09-489a-be75-085af6d784c9",
   "metadata": {},
   "outputs": [
    {
     "data": {
      "text/plain": [
       "false"
      ]
     },
     "metadata": {},
     "output_type": "display_data"
    }
   ],
   "source": [
    "is_gpu_diff_safe(repsys)"
   ]
  },
  {
   "cell_type": "code",
   "execution_count": 16,
   "id": "05f721ce-84f8-4bd2-9bd2-969b3e293e6d",
   "metadata": {},
   "outputs": [
    {
     "data": {
      "text/plain": [
       "Float64"
      ]
     },
     "metadata": {},
     "output_type": "display_data"
    }
   ],
   "source": [
    "float_type(repsys)"
   ]
  },
  {
   "cell_type": "code",
   "execution_count": 17,
   "id": "d6b014ad-fb44-4c81-9f53-8a265f8a3af4",
   "metadata": {},
   "outputs": [
    {
     "data": {
      "text/plain": [
       "Atom{Float64, Quantity{Float64, 𝐌, Unitful.FreeUnits{(u,), 𝐌, nothing}}, Quantity{Float64, 𝐋, Unitful.FreeUnits{(nm,), 𝐋, nothing}}, Quantity{Float64, 𝐋^2 𝐌 𝐍^-1 𝐓^-2, Unitful.FreeUnits{(kJ, mol^-1), 𝐋^2 𝐌 𝐍^-1 𝐓^-2, nothing}}}"
      ]
     },
     "metadata": {},
     "output_type": "display_data"
    }
   ],
   "source": [
    "species_type(repsys)"
   ]
  },
  {
   "cell_type": "code",
   "execution_count": 18,
   "id": "2e861cfd-06f0-48ef-b79b-45ecb4419137",
   "metadata": {},
   "outputs": [
    {
     "data": {
      "text/plain": [
       "AtomView{ReplicaSystem{3, false, Float64, Vector{Atom{Float64, Quantity{Float64, 𝐌, Unitful.FreeUnits{(u,), 𝐌, nothing}}, Quantity{Float64, 𝐋, Unitful.FreeUnits{(nm,), 𝐋, nothing}}, Quantity{Float64, 𝐋^2 𝐌 𝐍^-1 𝐓^-2, Unitful.FreeUnits{(kJ, mol^-1), 𝐋^2 𝐌 𝐍^-1 𝐓^-2, nothing}}}}, Vector{Any}, Tuple{LennardJones{false, NoCutoff, Int64, Int64, Unitful.FreeUnits{(kJ, nm^-1, mol^-1), 𝐋 𝐌 𝐍^-1 𝐓^-2, nothing}, Unitful.FreeUnits{(kJ, mol^-1), 𝐋^2 𝐌 𝐍^-1 𝐓^-2, nothing}}}, Tuple{}, Tuple{}, NTuple{5, System{3, false, Float64, Vector{Atom{Float64, Quantity{Float64, 𝐌, Unitful.FreeUnits{(u,), 𝐌, nothing}}, Quantity{Float64, 𝐋, Unitful.FreeUnits{(nm,), 𝐋, nothing}}, Quantity{Float64, 𝐋^2 𝐌 𝐍^-1 𝐓^-2, Unitful.FreeUnits{(kJ, mol^-1), 𝐋^2 𝐌 𝐍^-1 𝐓^-2, nothing}}}}, Vector{Any}, Tuple{LennardJones{false, NoCutoff, Int64, Int64, Unitful.FreeUnits{(kJ, nm^-1, mol^-1), 𝐋 𝐌 𝐍^-1 𝐓^-2, nothing}, Unitful.FreeUnits{(kJ, mol^-1), 𝐋^2 𝐌 𝐍^-1 𝐓^-2, nothing}}}, Tuple{}, Tuple{}, Vector{SVector{3, Quantity{Float64, 𝐋, Unitful.FreeUnits{(nm,), 𝐋, nothing}}}}, Vector{SVector{3, Quantity{Float64, 𝐋 𝐓^-1, Unitful.FreeUnits{(nm, ps^-1), 𝐋 𝐓^-1, nothing}}}}, CubicBoundary{Quantity{Float64, 𝐋, Unitful.FreeUnits{(nm,), 𝐋, nothing}}}, NoNeighborFinder, Tuple{}, Unitful.FreeUnits{(kJ, nm^-1, mol^-1), 𝐋 𝐌 𝐍^-1 𝐓^-2, nothing}, Unitful.FreeUnits{(kJ, mol^-1), 𝐋^2 𝐌 𝐍^-1 𝐓^-2, nothing}, Quantity{Float64, 𝐋^2 𝐌 𝚯^-1 𝐓^-2, Unitful.FreeUnits{(kJ, K^-1), 𝐋^2 𝐌 𝚯^-1 𝐓^-2, nothing}}}}, CubicBoundary{Quantity{Float64, 𝐋, Unitful.FreeUnits{(nm,), 𝐋, nothing}}}, NoNeighborFinder, NTuple{5, Tuple{}}, Unitful.FreeUnits{(kJ, nm^-1, mol^-1), 𝐋 𝐌 𝐍^-1 𝐓^-2, nothing}, Unitful.FreeUnits{(kJ, mol^-1), 𝐋^2 𝐌 𝐍^-1 𝐓^-2, nothing}, Quantity{Float64, 𝐋^2 𝐌 𝚯^-1 𝐓^-2, Unitful.FreeUnits{(kJ, K^-1), 𝐋^2 𝐌 𝚯^-1 𝐓^-2, nothing}}}}(ReplicaSystem containing 5 replicas with 10 atoms, boundary CubicBoundary{Quantity{Float64, 𝐋, Unitful.FreeUnits{(nm,), 𝐋, nothing}}}(Quantity{Float64, 𝐋, Unitful.FreeUnits{(nm,), 𝐋, nothing}}[2.0 nm, 2.0 nm, 2.0 nm]), 10)"
      ]
     },
     "metadata": {},
     "output_type": "display_data"
    }
   ],
   "source": [
    "repsys[10]"
   ]
  },
  {
   "cell_type": "code",
   "execution_count": 19,
   "id": "687a46e2-6acb-40a8-8d6b-47fb43d03cb7",
   "metadata": {},
   "outputs": [
    {
     "data": {
      "text/plain": [
       "10"
      ]
     },
     "metadata": {},
     "output_type": "display_data"
    }
   ],
   "source": [
    "length(repsys)"
   ]
  },
  {
   "cell_type": "code",
   "execution_count": 20,
   "id": "81e3dc5e-8580-4978-ac93-06bef86425a7",
   "metadata": {},
   "outputs": [
    {
     "data": {
      "text/plain": [
       "10-element Vector{SVector{3, Quantity{Float64, 𝐋, Unitful.FreeUnits{(nm,), 𝐋, nothing}}}}:\n",
       " [1.6426818565777774 nm, 0.2734226957583057 nm, 0.22263113103241827 nm]\n",
       " [1.6780822779309734 nm, 0.9169909409475601 nm, 0.6685382089109713 nm]\n",
       " [0.6249052111585556 nm, 1.4490691388938908 nm, 1.4250254036517438 nm]\n",
       " [0.2301867316201891 nm, 1.4291124847010477 nm, 0.26991891379146593 nm]\n",
       " [0.4569150294294022 nm, 0.9691254672094065 nm, 1.7056761289362445 nm]\n",
       " [1.15657963758917 nm, 0.9732974209143255 nm, 0.07849501047907537 nm]\n",
       " [0.5986832321084288 nm, 1.7974922588310027 nm, 1.1844766229442338 nm]\n",
       " [0.272389419139049 nm, 0.05768226676683197 nm, 0.4070991051770392 nm]\n",
       " [0.20506712450477926 nm, 0.45975903059324374 nm, 1.8913635934652695 nm]\n",
       " [0.4835746428649341 nm, 1.932097330123002 nm, 1.6508266039841615 nm]"
      ]
     },
     "metadata": {},
     "output_type": "display_data"
    }
   ],
   "source": [
    "position(repsys)"
   ]
  },
  {
   "cell_type": "code",
   "execution_count": 21,
   "id": "b85f9808-24c3-4dc9-954b-5e70921f75b6",
   "metadata": {},
   "outputs": [
    {
     "data": {
      "text/plain": [
       "3-element SVector{3, Quantity{Float64, 𝐋, Unitful.FreeUnits{(nm,), 𝐋, nothing}}} with indices SOneTo(3):\n",
       " 0.4835746428649341 nm\n",
       "  1.932097330123002 nm\n",
       " 1.6508266039841615 nm"
      ]
     },
     "metadata": {},
     "output_type": "display_data"
    }
   ],
   "source": [
    "position(repsys, 10)"
   ]
  },
  {
   "cell_type": "code",
   "execution_count": 22,
   "id": "1c7690bb-10f4-420d-a92c-ebd63cdc1eac",
   "metadata": {},
   "outputs": [
    {
     "data": {
      "text/plain": [
       "10-element Vector{SVector{3, Quantity{Float64, 𝐋 𝐓^-1, Unitful.FreeUnits{(nm, ps^-1), 𝐋 𝐓^-1, nothing}}}}:\n",
       " [-0.948529540070714 nm ps^-1, 0.5275558435057862 nm ps^-1, -0.10662395149619625 nm ps^-1]\n",
       " [0.3314316492922071 nm ps^-1, -0.8622465427206832 nm ps^-1, 0.04860134535933951 nm ps^-1]\n",
       " [-0.33755575425414297 nm ps^-1, -0.6047673781221644 nm ps^-1, 0.03165411666023848 nm ps^-1]\n",
       " [-0.013881129857368809 nm ps^-1, 0.6135262616129881 nm ps^-1, -0.3533815164743979 nm ps^-1]\n",
       " [-0.9738058953230301 nm ps^-1, -0.3164611055874556 nm ps^-1, 0.19869292433658184 nm ps^-1]\n",
       " [-0.08084616930602387 nm ps^-1, -0.07069377870263638 nm ps^-1, 0.07023677477731619 nm ps^-1]\n",
       " [0.299302626228913 nm ps^-1, 0.7259064169559641 nm ps^-1, 0.10823607122548737 nm ps^-1]\n",
       " [-0.13232361751533822 nm ps^-1, -0.38889808351797794 nm ps^-1, -0.6261286563779301 nm ps^-1]\n",
       " [-0.127857221705372 nm ps^-1, -0.7366946860377233 nm ps^-1, -0.38224502918316633 nm ps^-1]\n",
       " [-0.7054450141225842 nm ps^-1, -0.08022020782977417 nm ps^-1, -0.06924325634764532 nm ps^-1]"
      ]
     },
     "metadata": {},
     "output_type": "display_data"
    }
   ],
   "source": [
    "velocity(repsys)"
   ]
  },
  {
   "cell_type": "code",
   "execution_count": 23,
   "id": "db1be9b4-b8d3-45cb-b6ce-56ad9e42af44",
   "metadata": {},
   "outputs": [
    {
     "data": {
      "text/plain": [
       "3-element SVector{3, Quantity{Float64, 𝐋 𝐓^-1, Unitful.FreeUnits{(nm, ps^-1), 𝐋 𝐓^-1, nothing}}} with indices SOneTo(3):\n",
       "  -0.7054450141225842 nm ps^-1\n",
       " -0.08022020782977417 nm ps^-1\n",
       " -0.06924325634764532 nm ps^-1"
      ]
     },
     "metadata": {},
     "output_type": "display_data"
    }
   ],
   "source": [
    "velocity(repsys, 10)"
   ]
  },
  {
   "cell_type": "code",
   "execution_count": 24,
   "id": "dc3bc532-4e06-4f29-ab1f-d262cc75cafe",
   "metadata": {},
   "outputs": [
    {
     "data": {
      "text/plain": [
       "10.0 u"
      ]
     },
     "metadata": {},
     "output_type": "display_data"
    }
   ],
   "source": [
    "atomic_mass(repsys, 10)"
   ]
  },
  {
   "cell_type": "code",
   "execution_count": 25,
   "id": "8c2e595b-3a43-4e74-a3d9-9cad7a350b36",
   "metadata": {},
   "outputs": [
    {
     "data": {
      "text/plain": [
       "missing"
      ]
     },
     "metadata": {},
     "output_type": "display_data"
    }
   ],
   "source": [
    "atomic_number(repsys, 10)"
   ]
  },
  {
   "cell_type": "code",
   "execution_count": 27,
   "id": "b3da7e32-ccd3-4ff0-a815-1113336a9d01",
   "metadata": {},
   "outputs": [
    {
     "data": {
      "text/plain": [
       "3-element SVector{3, Periodic} with indices SOneTo(3):\n",
       " Periodic()\n",
       " Periodic()\n",
       " Periodic()"
      ]
     },
     "metadata": {},
     "output_type": "display_data"
    }
   ],
   "source": [
    "boundary_conditions(repsys)"
   ]
  },
  {
   "cell_type": "code",
   "execution_count": 28,
   "id": "52a025ae-1792-4bf0-a8cb-b7ab7980d176",
   "metadata": {},
   "outputs": [
    {
     "data": {
      "text/plain": [
       "3-element SVector{3, SVector{3, Quantity{Float64, 𝐋, Unitful.FreeUnits{(nm,), 𝐋, nothing}}}} with indices SOneTo(3):\n",
       " [2.0 nm, 0.0 nm, 0.0 nm]\n",
       " [0.0 nm, 2.0 nm, 0.0 nm]\n",
       " [0.0 nm, 0.0 nm, 2.0 nm]"
      ]
     },
     "metadata": {},
     "output_type": "display_data"
    }
   ],
   "source": [
    "bounding_box(repsys)"
   ]
  },
  {
   "cell_type": "code",
   "execution_count": 29,
   "id": "e61b8dd1-59e8-440f-bf51-9263d05779c7",
   "metadata": {},
   "outputs": [
    {
     "data": {
      "text/plain": [
       "ReplicaSystem containing 5 replicas with 10 atoms, boundary CubicBoundary{Quantity{Float64, 𝐋, Unitful.FreeUnits{(nm,), 𝐋, nothing}}}(Quantity{Float64, 𝐋, Unitful.FreeUnits{(nm,), 𝐋, nothing}}[2.0 nm, 2.0 nm, 2.0 nm])"
      ]
     },
     "metadata": {},
     "output_type": "display_data"
    }
   ],
   "source": [
    "repsys"
   ]
  }
 ],
 "metadata": {
  "kernelspec": {
   "display_name": "Julia 1.7.3",
   "language": "julia",
   "name": "julia-1.7"
  },
  "language_info": {
   "file_extension": ".jl",
   "mimetype": "application/julia",
   "name": "julia",
   "version": "1.7.3"
  }
 },
 "nbformat": 4,
 "nbformat_minor": 5
}
